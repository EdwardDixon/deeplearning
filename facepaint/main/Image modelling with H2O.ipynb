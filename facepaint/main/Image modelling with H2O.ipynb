{
 "cells": [
  {
   "cell_type": "code",
   "execution_count": 3,
   "metadata": {},
   "outputs": [
    {
     "name": "stdout",
     "output_type": "stream",
     "text": [
      "Checking whether there is an H2O instance running at http://localhost:54321..... not found.\n",
      "Attempting to start a local H2O server...\n",
      "; Picked up _JAVA_OPTIONS: -Djava.net.preferIPv4Stack=trueed mode)\n",
      "  Starting server from C:\\ProgramData\\Miniconda3\\lib\\site-packages\\h2o\\backend\\bin\\h2o.jar\n",
      "  Ice root: C:\\Users\\edwarddi\\AppData\\Local\\Temp\\tmp1of40oys\n",
      "  JVM stdout: C:\\Users\\edwarddi\\AppData\\Local\\Temp\\tmp1of40oys\\h2o_edwarddi_started_from_python.out\n",
      "  JVM stderr: C:\\Users\\edwarddi\\AppData\\Local\\Temp\\tmp1of40oys\\h2o_edwarddi_started_from_python.err\n",
      "  Server is running at http://127.0.0.1:54321\n",
      "Connecting to H2O server at http://127.0.0.1:54321... successful.\n"
     ]
    },
    {
     "data": {
      "text/html": [
       "<div style=\"overflow:auto\"><table style=\"width:50%\"><tr><td>H2O cluster uptime:</td>\n",
       "<td>06 secs</td></tr>\n",
       "<tr><td>H2O cluster timezone:</td>\n",
       "<td>Europe/London</td></tr>\n",
       "<tr><td>H2O data parsing timezone:</td>\n",
       "<td>UTC</td></tr>\n",
       "<tr><td>H2O cluster version:</td>\n",
       "<td>3.20.0.10</td></tr>\n",
       "<tr><td>H2O cluster version age:</td>\n",
       "<td>5 days </td></tr>\n",
       "<tr><td>H2O cluster name:</td>\n",
       "<td>H2O_from_python_edwarddi_eerjqv</td></tr>\n",
       "<tr><td>H2O cluster total nodes:</td>\n",
       "<td>1</td></tr>\n",
       "<tr><td>H2O cluster free memory:</td>\n",
       "<td>3.531 Gb</td></tr>\n",
       "<tr><td>H2O cluster total cores:</td>\n",
       "<td>4</td></tr>\n",
       "<tr><td>H2O cluster allowed cores:</td>\n",
       "<td>4</td></tr>\n",
       "<tr><td>H2O cluster status:</td>\n",
       "<td>accepting new members, healthy</td></tr>\n",
       "<tr><td>H2O connection url:</td>\n",
       "<td>http://127.0.0.1:54321</td></tr>\n",
       "<tr><td>H2O connection proxy:</td>\n",
       "<td>None</td></tr>\n",
       "<tr><td>H2O internal security:</td>\n",
       "<td>False</td></tr>\n",
       "<tr><td>H2O API Extensions:</td>\n",
       "<td>Algos, AutoML, Core V3, Core V4</td></tr>\n",
       "<tr><td>Python version:</td>\n",
       "<td>3.7.0 final</td></tr></table></div>"
      ],
      "text/plain": [
       "--------------------------  -------------------------------\n",
       "H2O cluster uptime:         06 secs\n",
       "H2O cluster timezone:       Europe/London\n",
       "H2O data parsing timezone:  UTC\n",
       "H2O cluster version:        3.20.0.10\n",
       "H2O cluster version age:    5 days\n",
       "H2O cluster name:           H2O_from_python_edwarddi_eerjqv\n",
       "H2O cluster total nodes:    1\n",
       "H2O cluster free memory:    3.531 Gb\n",
       "H2O cluster total cores:    4\n",
       "H2O cluster allowed cores:  4\n",
       "H2O cluster status:         accepting new members, healthy\n",
       "H2O connection url:         http://127.0.0.1:54321\n",
       "H2O connection proxy:\n",
       "H2O internal security:      False\n",
       "H2O API Extensions:         Algos, AutoML, Core V3, Core V4\n",
       "Python version:             3.7.0 final\n",
       "--------------------------  -------------------------------"
      ]
     },
     "metadata": {},
     "output_type": "display_data"
    },
    {
     "name": "stdout",
     "output_type": "stream",
     "text": [
      "Parse progress: |█████████████████████████████████████████████████████████| 100%\n"
     ]
    }
   ],
   "source": [
    "import h2o\n",
    "h2o.init()\n",
    "data = h2o.import_file(\"towerbridge.csv\")"
   ]
  },
  {
   "cell_type": "markdown",
   "metadata": {},
   "source": [
    "### Our Data\n",
    "To use it with H2O modelling, we've converted our raster image (a grid of colour values) to a list of tuples, mapping the pixel coordinates to the colour values."
   ]
  },
  {
   "cell_type": "code",
   "execution_count": 4,
   "metadata": {},
   "outputs": [
    {
     "data": {
      "text/html": [
       "<table>\n",
       "<thead>\n",
       "<tr><th style=\"text-align: right;\">  C1</th><th style=\"text-align: right;\">  b</th><th style=\"text-align: right;\">  g</th><th style=\"text-align: right;\">  r</th><th style=\"text-align: right;\">         x</th><th style=\"text-align: right;\">         y</th></tr>\n",
       "</thead>\n",
       "<tbody>\n",
       "<tr><td style=\"text-align: right;\">   0</td><td style=\"text-align: right;\"> 96</td><td style=\"text-align: right;\"> 28</td><td style=\"text-align: right;\">  0</td><td style=\"text-align: right;\">-0.0233463</td><td style=\"text-align: right;\">-0.0233463</td></tr>\n",
       "<tr><td style=\"text-align: right;\">   1</td><td style=\"text-align: right;\"> 94</td><td style=\"text-align: right;\"> 28</td><td style=\"text-align: right;\">  0</td><td style=\"text-align: right;\">-0.0231632</td><td style=\"text-align: right;\">-0.0233463</td></tr>\n",
       "<tr><td style=\"text-align: right;\">   2</td><td style=\"text-align: right;\"> 94</td><td style=\"text-align: right;\"> 28</td><td style=\"text-align: right;\">  0</td><td style=\"text-align: right;\">-0.0229801</td><td style=\"text-align: right;\">-0.0233463</td></tr>\n",
       "<tr><td style=\"text-align: right;\">   3</td><td style=\"text-align: right;\"> 93</td><td style=\"text-align: right;\"> 29</td><td style=\"text-align: right;\">  0</td><td style=\"text-align: right;\">-0.022797 </td><td style=\"text-align: right;\">-0.0233463</td></tr>\n",
       "<tr><td style=\"text-align: right;\">   4</td><td style=\"text-align: right;\"> 94</td><td style=\"text-align: right;\"> 30</td><td style=\"text-align: right;\">  0</td><td style=\"text-align: right;\">-0.0226139</td><td style=\"text-align: right;\">-0.0233463</td></tr>\n",
       "<tr><td style=\"text-align: right;\">   5</td><td style=\"text-align: right;\"> 95</td><td style=\"text-align: right;\"> 29</td><td style=\"text-align: right;\">  0</td><td style=\"text-align: right;\">-0.0224308</td><td style=\"text-align: right;\">-0.0233463</td></tr>\n",
       "<tr><td style=\"text-align: right;\">   6</td><td style=\"text-align: right;\"> 96</td><td style=\"text-align: right;\"> 29</td><td style=\"text-align: right;\">  0</td><td style=\"text-align: right;\">-0.0222477</td><td style=\"text-align: right;\">-0.0233463</td></tr>\n",
       "<tr><td style=\"text-align: right;\">   7</td><td style=\"text-align: right;\"> 97</td><td style=\"text-align: right;\"> 29</td><td style=\"text-align: right;\">  0</td><td style=\"text-align: right;\">-0.0220645</td><td style=\"text-align: right;\">-0.0233463</td></tr>\n",
       "<tr><td style=\"text-align: right;\">   8</td><td style=\"text-align: right;\"> 99</td><td style=\"text-align: right;\"> 28</td><td style=\"text-align: right;\">  0</td><td style=\"text-align: right;\">-0.0218814</td><td style=\"text-align: right;\">-0.0233463</td></tr>\n",
       "<tr><td style=\"text-align: right;\">   9</td><td style=\"text-align: right;\">101</td><td style=\"text-align: right;\"> 28</td><td style=\"text-align: right;\">  0</td><td style=\"text-align: right;\">-0.0216983</td><td style=\"text-align: right;\">-0.0233463</td></tr>\n",
       "</tbody>\n",
       "</table>"
      ]
     },
     "metadata": {},
     "output_type": "display_data"
    },
    {
     "data": {
      "text/plain": []
     },
     "execution_count": 4,
     "metadata": {},
     "output_type": "execute_result"
    }
   ],
   "source": [
    "data"
   ]
  },
  {
   "cell_type": "code",
   "execution_count": null,
   "metadata": {},
   "outputs": [
    {
     "name": "stdout",
     "output_type": "stream",
     "text": [
      "deeplearning Model Build progress: |███"
     ]
    }
   ],
   "source": [
    "y = \"b\"\n",
    "x = [\"x\",\"y\"]\n",
    "\n",
    "train, valid, test = data.split_frame([0.75, 0.15])\n",
    "\n",
    "from h2o.estimators import H2ODeepLearningEstimator\n",
    "m = H2ODeepLearningEstimator(model_id=\"DL_defaults\", hidden=[10,10,10,10,10,10,10,10,10,10], activation='tanh',epochs=1000)\n",
    "m.train(x,y,train)\n",
    "m"
   ]
  },
  {
   "cell_type": "markdown",
   "metadata": {},
   "source": [
    "## Rendering our results\n",
    "To see our model's output, we need to feed it the coordinates of the pixels we want rendered"
   ]
  },
  {
   "cell_type": "code",
   "execution_count": 57,
   "metadata": {},
   "outputs": [
    {
     "name": "stdout",
     "output_type": "stream",
     "text": [
      "Parse progress: |█████████████████████████████████████████████████████████| 100%\n",
      "deeplearning prediction progress: |███████████████████████████████████████| 100%\n"
     ]
    },
    {
     "name": "stderr",
     "output_type": "stream",
     "text": [
      "C:\\ProgramData\\Miniconda3\\lib\\site-packages\\ipykernel_launcher.py:65: FutureWarning: Method .as_matrix will be removed in a future version. Use .values instead.\n"
     ]
    }
   ],
   "source": [
    "import numpy as np\n",
    "import pandas as pd\n",
    "from h2o.frame import H2OFrame\n",
    "from PIL import Image\n",
    "\n",
    "IM_SIZE = 256\n",
    "IM_CHANNELS = 1\n",
    "\n",
    "def save_pixels(path_to_image_file, image_array, mode):\n",
    "    im_out = Image.fromarray(image_array, mode )\n",
    "    im_out.save(path_to_image_file)\n",
    "\n",
    "\n",
    "# Takes care of clipping, casting to int8, etc.\n",
    "def save_ndarray(path_to_outfile, x, width = IM_SIZE, height = IM_SIZE, channels = IM_CHANNELS):\n",
    "\n",
    "    out_arr = np.clip(x, 0, 255)\n",
    "    \n",
    "    if channels == 3:\n",
    "        out_arr = np.reshape(out_arr, (width, height, channels), 1)\n",
    "    else:\n",
    "        assert(channels == 1)\n",
    "        out_arr = np.reshape(out_arr, (width, height), 1)\n",
    "        \n",
    "    out_arr = np.rot90(out_arr, k=3)\n",
    "    out_arr = np.fliplr(out_arr)\n",
    "    \n",
    "    if channels == 3:\n",
    "        save_pixels(path_to_outfile, out_arr.astype(np.int8), 'RGB')\n",
    "    else:\n",
    "        save_pixels(path_to_outfile, out_arr.astype(np.int8), 'L')\n",
    "\n",
    "\n",
    "# Create suitable training matrix\n",
    "def gen_input_tuples(pixels_width, pixels_height, scale, translate_x, translate_y):\n",
    "\n",
    "    image_height = pixels_height\n",
    "    image_width = pixels_width\n",
    "\n",
    "    # One row per pixel\n",
    "    X = np.zeros((image_width * image_height, 2))\n",
    "\n",
    "    # Fill in y values\n",
    "    X[:,1] = np.repeat(range(0, image_height), image_width, 0)\n",
    "\n",
    "    # Fill in x values\n",
    "    X[:,0] = np.tile(range(0, image_width), image_height)\n",
    "\n",
    "    X = X + np.asarray([0,translate_x])\n",
    "    X = X + np.asarray([translate_y,0])\n",
    "\n",
    "    # Normalize X\n",
    "    X = X - X.mean()\n",
    "    X = X / X.var()\n",
    "\n",
    "    X = X * scale\n",
    "\n",
    "    return (X)\n",
    "    \n",
    "pixel_coords = gen_input_tuples(256, 256, 1, 0, 0)\n",
    "df_pixels_to_render = pd.DataFrame({'x':pixel_coords[:,0], 'y':pixel_coords[:,1]})\n",
    "h2o_pixels = H2OFrame(df_pixels_to_render)\n",
    "pixel_intensities = m.predict(h2o_pixels)\n",
    "\n",
    "save_ndarray(\"modelled_tower_bridge.png\", pixel_intensities.as_data_frame().as_matrix(), IM_SIZE, IM_SIZE, 1)"
   ]
  },
  {
   "cell_type": "markdown",
   "metadata": {},
   "source": [
    "![modelled_tower_bridge.png](modelled_tower_bridge.png)"
   ]
  },
  {
   "cell_type": "code",
   "execution_count": 48,
   "metadata": {},
   "outputs": [
    {
     "name": "stdout",
     "output_type": "stream",
     "text": [
      "Model Details\n",
      "=============\n",
      "H2ODeepLearningEstimator :  Deep Learning\n",
      "Model Key:  DL_defaults\n",
      "\n",
      "\n",
      "ModelMetricsRegression: deeplearning\n",
      "** Reported on train data. **\n",
      "\n",
      "MSE: 2230.507266100853\n",
      "RMSE: 47.22824648556045\n",
      "MAE: 32.74329044532223\n",
      "RMSLE: NaN\n",
      "Mean Residual Deviance: 2230.507266100853\n",
      "Scoring History: \n"
     ]
    },
    {
     "data": {
      "text/html": [
       "<div style=\"overflow:auto\"><table style=\"width:50%\"><tr><td><b></b></td>\n",
       "<td><b>timestamp</b></td>\n",
       "<td><b>duration</b></td>\n",
       "<td><b>training_speed</b></td>\n",
       "<td><b>epochs</b></td>\n",
       "<td><b>iterations</b></td>\n",
       "<td><b>samples</b></td>\n",
       "<td><b>training_rmse</b></td>\n",
       "<td><b>training_deviance</b></td>\n",
       "<td><b>training_mae</b></td>\n",
       "<td><b>training_r2</b></td></tr>\n",
       "<tr><td></td>\n",
       "<td>2018-10-23 12:15:18</td>\n",
       "<td> 0.000 sec</td>\n",
       "<td>None</td>\n",
       "<td>0.0</td>\n",
       "<td>0</td>\n",
       "<td>0.0</td>\n",
       "<td>nan</td>\n",
       "<td>nan</td>\n",
       "<td>nan</td>\n",
       "<td>nan</td></tr>\n",
       "<tr><td></td>\n",
       "<td>2018-10-23 12:15:25</td>\n",
       "<td> 7.485 sec</td>\n",
       "<td>6968 obs/sec</td>\n",
       "<td>1.0</td>\n",
       "<td>1</td>\n",
       "<td>49144.0</td>\n",
       "<td>51.6807577</td>\n",
       "<td>2670.9007182</td>\n",
       "<td>40.1757933</td>\n",
       "<td>0.1369572</td></tr>\n",
       "<tr><td></td>\n",
       "<td>2018-10-23 12:15:31</td>\n",
       "<td>12.605 sec</td>\n",
       "<td>12291 obs/sec</td>\n",
       "<td>3.0</td>\n",
       "<td>3</td>\n",
       "<td>147432.0</td>\n",
       "<td>49.5356531</td>\n",
       "<td>2453.7809296</td>\n",
       "<td>33.9030883</td>\n",
       "<td>0.2071147</td></tr>\n",
       "<tr><td></td>\n",
       "<td>2018-10-23 12:15:36</td>\n",
       "<td>17.760 sec</td>\n",
       "<td>17395 obs/sec</td>\n",
       "<td>6.0</td>\n",
       "<td>6</td>\n",
       "<td>294864.0</td>\n",
       "<td>49.5411756</td>\n",
       "<td>2454.3280798</td>\n",
       "<td>33.3520517</td>\n",
       "<td>0.2069379</td></tr>\n",
       "<tr><td></td>\n",
       "<td>2018-10-23 12:15:42</td>\n",
       "<td>23.615 sec</td>\n",
       "<td>21729 obs/sec</td>\n",
       "<td>10.0</td>\n",
       "<td>10</td>\n",
       "<td>491440.0</td>\n",
       "<td>47.2282465</td>\n",
       "<td>2230.5072661</td>\n",
       "<td>32.7432904</td>\n",
       "<td>0.2792607</td></tr></table></div>"
      ],
      "text/plain": [
       "    timestamp            duration    training_speed    epochs    iterations    samples    training_rmse    training_deviance    training_mae    training_r2\n",
       "--  -------------------  ----------  ----------------  --------  ------------  ---------  ---------------  -------------------  --------------  -------------\n",
       "    2018-10-23 12:15:18  0.000 sec                     0         0             0          nan              nan                  nan             nan\n",
       "    2018-10-23 12:15:25  7.485 sec   6968 obs/sec      1         1             49144      51.6808          2670.9               40.1758         0.136957\n",
       "    2018-10-23 12:15:31  12.605 sec  12291 obs/sec     3         3             147432     49.5357          2453.78              33.9031         0.207115\n",
       "    2018-10-23 12:15:36  17.760 sec  17395 obs/sec     6         6             294864     49.5412          2454.33              33.3521         0.206938\n",
       "    2018-10-23 12:15:42  23.615 sec  21729 obs/sec     10        10            491440     47.2282          2230.51              32.7433         0.279261"
      ]
     },
     "metadata": {},
     "output_type": "display_data"
    },
    {
     "name": "stdout",
     "output_type": "stream",
     "text": [
      "Variable Importances: \n"
     ]
    },
    {
     "data": {
      "text/html": [
       "<div style=\"overflow:auto\"><table style=\"width:50%\"><tr><td><b>variable</b></td>\n",
       "<td><b>relative_importance</b></td>\n",
       "<td><b>scaled_importance</b></td>\n",
       "<td><b>percentage</b></td></tr>\n",
       "<tr><td>x</td>\n",
       "<td>1.0</td>\n",
       "<td>1.0</td>\n",
       "<td>0.5760385</td></tr>\n",
       "<tr><td>y</td>\n",
       "<td>0.7359949</td>\n",
       "<td>0.7359949</td>\n",
       "<td>0.4239615</td></tr></table></div>"
      ],
      "text/plain": [
       "variable    relative_importance    scaled_importance    percentage\n",
       "----------  ---------------------  -------------------  ------------\n",
       "x           1                      1                    0.576039\n",
       "y           0.735995               0.735995             0.423961"
      ]
     },
     "metadata": {},
     "output_type": "display_data"
    },
    {
     "name": "stdout",
     "output_type": "stream",
     "text": [
      "\n"
     ]
    }
   ],
   "source": [
    "print(m)"
   ]
  },
  {
   "cell_type": "code",
   "execution_count": null,
   "metadata": {},
   "outputs": [],
   "source": []
  }
 ],
 "metadata": {
  "kernelspec": {
   "display_name": "Python 3",
   "language": "python",
   "name": "python3"
  },
  "language_info": {
   "codemirror_mode": {
    "name": "ipython",
    "version": 3
   },
   "file_extension": ".py",
   "mimetype": "text/x-python",
   "name": "python",
   "nbconvert_exporter": "python",
   "pygments_lexer": "ipython3",
   "version": "3.7.0"
  }
 },
 "nbformat": 4,
 "nbformat_minor": 2
}
